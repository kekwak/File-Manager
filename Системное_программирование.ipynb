{
  "cells": [
    {
      "cell_type": "markdown",
      "metadata": {
        "id": "fuYOpDnB0PjL"
      },
      "source": [
        "# <font color=\"Teal\"> **ЛАБОРАТОРНАЯ РАБОТА «ОСНОВЫ СИСТЕМНОГО ПРОГРАММИРОВАНИЯ»**"
      ]
    },
    {
      "cell_type": "markdown",
      "metadata": {
        "id": "tuzr_wyx1yvO"
      },
      "source": [
        "**Цель задания**\n",
        "Целью данного задания является развитие навыков системного программирования на языке Python через выполнение серии упражнений, охватывающих работу с файловой системой, процессами, сетями, системной информацией, многопоточностью и асинхронным программированием. Студенты должны не только выполнить указанные задачи, но и глубоко разобраться в используемых библиотеках и конструкциях языка, а также подготовить отчет, описывающий логику работы каждого блока кода.\n",
        "\n",
        "**Задачи для выполнения**\n",
        "\n",
        "* Работа с файловой системой\n",
        "    - Создание директории по указанному пути.\n",
        "    - Перечисление файлов в директории и ее поддиректориях.\n",
        "\n",
        "* Работа с процессами\n",
        "    - Запуск внешних команд и программ (ping, ls/dir).\n",
        "    - Анализ результатов выполнения команд.\n",
        "\n",
        "* Работа с сетями\n",
        "    - Отправка HTTP-запросов и анализ ответов.\n",
        "    - Установка соединения с сервером через сокеты и обмен сообщениями.\n",
        "\n",
        "* Работа с системной информацией\n",
        "    - Отображение информации о системе.\n",
        "    - Работа с рабочим каталогом и переменными окружения.\n",
        "\n",
        "* Многопоточность и асинхронное программирование\n",
        "    - Реализация многопоточности для выполнения длительных задач.\n",
        "    - Асинхронное выполнение и ожидание результатов операций.\n",
        "\n",
        "**Требования к отчету**\n",
        "\n",
        "Отчет должен содержать:\n",
        "* Описание каждого упражнения и его цели.\n",
        "* Пошаговое объяснение реализации задачи, включая описание используемых функций и методов.\n",
        "* Анализ полученных результатов и выводы.\n",
        "* Любые трудности, с которыми студенты столкнулись при выполнении задания, и способы их решения.\n",
        "* Размышления о том, как полученные знания могут быть применены в практических проектах."
      ]
    },
    {
      "cell_type": "markdown",
      "metadata": {
        "id": "_4V_U0_A0Rxw"
      },
      "source": [
        "## <font color=\"Teal\"> Упражнение 1. Работа с файловой системой"
      ]
    },
    {
      "cell_type": "markdown",
      "metadata": {
        "id": "a4NwCWib0k7F"
      },
      "source": [
        "* Написать скрипт для создания новой директории. Пусть скрипт принимает имя директории от пользователя и создает ее в указанном месте. Если директория уже существует, скрипт должен сообщить об этом.\n",
        "\n",
        "* Написать функцию для перечисления всех файлов в данной директории и всех ее поддиректориях. Функция должна выводить абсолютные пути файлов."
      ]
    },
    {
      "cell_type": "markdown",
      "metadata": {
        "id": "HsXAnUbJ2OTh"
      },
      "source": [
        "**Шаги**"
      ]
    },
    {
      "cell_type": "markdown",
      "metadata": {
        "id": "C0zjlsgK2RfN"
      },
      "source": [
        "1. Импортировать модуль `os`. Этот модуль содержит функции для работы с операционной системой, включая файловую систему."
      ]
    },
    {
      "cell_type": "code",
      "execution_count": null,
      "metadata": {
        "id": "z19VwnBZ2WuK"
      },
      "outputs": [],
      "source": [
        "import os"
      ]
    },
    {
      "cell_type": "markdown",
      "metadata": {
        "id": "Px7DBldA2aOq"
      },
      "source": [
        "2. Получить от пользователя путь для создания директории. Используйте функцию `input()` для запроса пути."
      ]
    },
    {
      "cell_type": "code",
      "execution_count": null,
      "metadata": {
        "id": "STsi4CD22gtY"
      },
      "outputs": [],
      "source": [
        "directory = input(\"Введите путь для создания директории: \")"
      ]
    },
    {
      "cell_type": "markdown",
      "metadata": {
        "id": "CitXdppk1yym"
      },
      "source": [
        "3. Проверить, существует ли уже такая директория. Используйте `os.path.exists()` для проверки существования директории."
      ]
    },
    {
      "cell_type": "code",
      "execution_count": null,
      "metadata": {
        "id": "_k45JWbu1yyo"
      },
      "outputs": [],
      "source": [
        "if os.path.exists(directory):\n",
        "    print(\"Директория уже существует\")\n",
        "else:\n",
        "    os.makedirs(directory)\n",
        "    print(f\"Директория {directory} создана\")"
      ]
    },
    {
      "cell_type": "markdown",
      "metadata": {
        "id": "TLAdl_iE1yy8"
      },
      "source": [
        "4. Используйте функцию `os.walk()` для обхода директории и всех её поддиректорий. Эта функция генерирует имена файлов в дереве каталогов, обходя дерево сверху вниз или снизу вверх."
      ]
    },
    {
      "cell_type": "code",
      "execution_count": null,
      "metadata": {
        "id": "jLrPGZGm1yy9"
      },
      "outputs": [],
      "source": [
        "def list_files(directory):\n",
        "    for root, dirs, files in os.walk(directory):\n",
        "        for file in files:\n",
        "            print(os.path.join(root, file))"
      ]
    },
    {
      "cell_type": "markdown",
      "metadata": {
        "id": "OH-SOhw71yy9"
      },
      "source": [
        "5. Вызовите функцию и передайте ей путь к директории."
      ]
    },
    {
      "cell_type": "code",
      "execution_count": null,
      "metadata": {
        "id": "6piPS3Cc1yy-"
      },
      "outputs": [],
      "source": [
        "directory = input(\"Введите путь к директории для перечисления файлов: \")\n",
        "list_files(directory)"
      ]
    },
    {
      "cell_type": "markdown",
      "metadata": {
        "id": "qt9FnPLD1N7l"
      },
      "source": [
        "## <font color=\"Teal\"> Упражнение 2. Работа с процессами"
      ]
    },
    {
      "cell_type": "markdown",
      "metadata": {
        "id": "Dlcp59261Oot"
      },
      "source": [
        "* Написать скрипт для запуска внешних команд или программ. Пусть скрипт запускает команду `ping` для проверки доступности какого-либо ресурса в сети, например, `google.com`. Результат выполнения команды должен быть выведен пользователю.\n",
        "\n",
        "* Исследовать возможности модуля `subprocess`. Написать скрипт, который выполняет команду `ls` (для Unix/Linux) или `dir` (для Windows) и обрабатывает результат: выводит количество файлов в директории."
      ]
    },
    {
      "cell_type": "markdown",
      "metadata": {
        "id": "2Ir2AowO1yza"
      },
      "source": [
        "1. Импортировать модуль `subprocess`. Этот модуль позволяет запускать новые приложения и команды, подключаться к их каналам ввода/вывода/ошибок и получать их коды возврата."
      ]
    },
    {
      "cell_type": "code",
      "execution_count": null,
      "metadata": {
        "id": "34BXmy4x1yzb"
      },
      "outputs": [],
      "source": [
        "import subprocess"
      ]
    },
    {
      "cell_type": "markdown",
      "metadata": {
        "id": "jpR5XRzD1yzm"
      },
      "source": [
        "2. Запустить команду `ping`. Используйте `subprocess.run()` для запуска команды и вывода результата."
      ]
    },
    {
      "cell_type": "code",
      "execution_count": null,
      "metadata": {
        "id": "EZqKgmCX1yzn"
      },
      "outputs": [],
      "source": [
        "subprocess.run([\"ping\", \"-n\", \"4\", \"google.com\"])"
      ]
    },
    {
      "cell_type": "markdown",
      "metadata": {
        "id": "jIPCRD4M1yzn"
      },
      "source": [
        "3. Запустить команду `ls` или `dir`. Используйте `subprocess.check_output()` для выполнения команды и получения вывода."
      ]
    },
    {
      "cell_type": "code",
      "execution_count": null,
      "metadata": {
        "id": "qqPksSAK1yzo"
      },
      "outputs": [],
      "source": [
        "try:\n",
        "    output = subprocess.check_output(\"dir\", shell=True, text=True, encoding='cp866')\n",
        "    print(output)\n",
        "    files = output.strip().split('\\n')\n",
        "    print(f\"Количество элементов: {len(files)}\")\n",
        "except subprocess.CalledProcessError as e:\n",
        "    print(f\"Ошибка выполнения команды: {e}\")"
      ]
    },
    {
      "cell_type": "markdown",
      "metadata": {
        "id": "ANolYfT81yzp"
      },
      "source": [
        "4. Подсчитайте количество файлов в выводе, разделив строку по символу перевода строки и посчитав элементы списка."
      ]
    },
    {
      "cell_type": "code",
      "execution_count": null,
      "metadata": {
        "id": "_w3YZ_Nq1yzp"
      },
      "outputs": [],
      "source": [
        "files = output.strip().split('\\n')\n",
        "print(f\"Количество файлов: {len(files)}\")"
      ]
    },
    {
      "cell_type": "markdown",
      "metadata": {
        "id": "oExdBS_M1asB"
      },
      "source": [
        "## <font color=\"Teal\"> Упражнение 3. Работа с сетями"
      ]
    },
    {
      "cell_type": "markdown",
      "metadata": {
        "id": "d0ax6AM81d1N"
      },
      "source": [
        "* Написать скрипт для проверки доступности веб-сайта. Скрипт должен отправлять HTTP-запрос к выбранному веб-сайту и выводить статус-код ответа.\n",
        "\n",
        "* Изучить модуль `socket`. Написать скрипт, который подключается к серверу по заданному адресу и порту, отправляет простое текстовое сообщение и получает ответ."
      ]
    },
    {
      "cell_type": "markdown",
      "metadata": {
        "id": "yi4LuPog1yzz"
      },
      "source": [
        "1. Импортировать модуль `requests`. Этот модуль позволяет отправлять HTTP-запросы."
      ]
    },
    {
      "cell_type": "code",
      "execution_count": null,
      "metadata": {
        "id": "hYHMb0xQ1yz0"
      },
      "outputs": [],
      "source": [
        "import requests"
      ]
    },
    {
      "cell_type": "markdown",
      "metadata": {
        "id": "277Pot3F1yz0"
      },
      "source": [
        "2. Отправить GET-запрос к веб-сайту. Используйте `requests.get()` и обработайте объект ответа для вывода статус-кода."
      ]
    },
    {
      "cell_type": "code",
      "execution_count": null,
      "metadata": {
        "id": "_sPwvsiY1yz1"
      },
      "outputs": [],
      "source": [
        "response = requests.get(\"http://www.google.com\")\n",
        "print(f\"Статус-код: {response.status_code}\")"
      ]
    },
    {
      "cell_type": "markdown",
      "metadata": {
        "id": "oJ0WSe5q1yz8"
      },
      "source": [
        "3. Расширенная проверка доступности веб-сайта с использованием `requests`. Импорт необходимых модулей."
      ]
    },
    {
      "cell_type": "code",
      "execution_count": null,
      "metadata": {
        "id": "jK_VgN9I1y0c"
      },
      "outputs": [],
      "source": [
        "import requests\n",
        "import time"
      ]
    },
    {
      "cell_type": "markdown",
      "metadata": {
        "id": "twokLYT21y0d"
      },
      "source": [
        "4. Отправка GET-запроса, измерение времени выполнения и получения запроса."
      ]
    },
    {
      "cell_type": "code",
      "execution_count": null,
      "metadata": {
        "id": "H4uTfzKz1y0t"
      },
      "outputs": [],
      "source": [
        "start_time = time.time()\n",
        "response = requests.get(\"http://www.google.com\")\n",
        "end_time = time.time()"
      ]
    },
    {
      "cell_type": "markdown",
      "metadata": {
        "id": "b3mz0pqo1y0u"
      },
      "source": [
        "5. Анализ и вывод результатов."
      ]
    },
    {
      "cell_type": "code",
      "execution_count": null,
      "metadata": {
        "id": "AOeKArrE1y0u"
      },
      "outputs": [],
      "source": [
        "print(f\"Статус-код: {response.status_code}\")\n",
        "print(f\"Тип содержимого: {response.headers.get('Content-Type')}\")\n",
        "print(f\"Размер контента: {response.headers.get('Content-Length')} байт\")\n",
        "print(f\"Время ответа: {end_time - start_time} секунд\")"
      ]
    },
    {
      "cell_type": "markdown",
      "metadata": {
        "id": "Orhxc5mV1y0v"
      },
      "source": [
        "6. Работа с сокетами для отправки HTTP-запроса. Импорт модуля `socket`."
      ]
    },
    {
      "cell_type": "code",
      "execution_count": null,
      "metadata": {
        "id": "CFHC_Q2N1y0x"
      },
      "outputs": [],
      "source": [
        "import socket"
      ]
    },
    {
      "cell_type": "markdown",
      "metadata": {
        "id": "vpT2zaMV1y1i"
      },
      "source": [
        "7. Определение хоста и порта."
      ]
    },
    {
      "cell_type": "code",
      "execution_count": null,
      "metadata": {
        "id": "e_3Fxlub1y1i"
      },
      "outputs": [],
      "source": [
        "host = 'google.com'\n",
        "port = 80"
      ]
    },
    {
      "cell_type": "markdown",
      "metadata": {
        "id": "XUTfb4rl1y1j"
      },
      "source": [
        "8. Формирование HTTP-запроса."
      ]
    },
    {
      "cell_type": "code",
      "execution_count": null,
      "metadata": {
        "id": "wdNo7gze1y15"
      },
      "outputs": [],
      "source": [
        "request = f\"GET / HTTP/1.1\\r\\nHost: {host}\\r\\nConnection: close\\r\\n\\r\\n\""
      ]
    },
    {
      "cell_type": "markdown",
      "metadata": {
        "id": "IchZSCjS1y16"
      },
      "source": [
        "9. Создание сокета и подключение. Отправка запроса и получение ответа."
      ]
    },
    {
      "cell_type": "code",
      "execution_count": null,
      "metadata": {
        "id": "SkxFkeRF1y16"
      },
      "outputs": [],
      "source": [
        "with socket.socket(socket.AF_INET, socket.SOCK_STREAM) as s:\n",
        "    s.connect((host, port))\n",
        "\n",
        "    s.sendall(request.encode())\n",
        "\n",
        "    response = \"\"\n",
        "    while True:\n",
        "        part = s.recv(4096).decode()\n",
        "        if not part:\n",
        "            break\n",
        "        response += part"
      ]
    },
    {
      "cell_type": "markdown",
      "metadata": {
        "id": "hpD0JYf91y17"
      },
      "source": [
        "10. Анализ и вывод ответа."
      ]
    },
    {
      "cell_type": "code",
      "execution_count": null,
      "metadata": {
        "collapsed": true,
        "id": "2G0sHTRY1y17",
        "outputId": "d983f5e3-04f6-4ca9-aad9-0847caad156c"
      },
      "outputs": [
        {
          "name": "stdout",
          "output_type": "stream",
          "text": [
            "Статус-код: 301\n",
            "Заголовки ответа:\n",
            "Location: http://www.google.com/\n",
            "Content-Type: text/html; charset=UTF-8\n",
            "Content-Security-Policy-Report-Only: object-src 'none';base-uri 'self';script-src 'nonce-Bd8HWyagClxSI3MHByIWDQ' 'strict-dynamic' 'report-sample' 'unsafe-eval' 'unsafe-inline' https: http:;report-uri https://csp.withgoogle.com/csp/gws/other-hp\n",
            "Date: Tue, 06 Feb 2024 10:15:41 GMT\n",
            "Expires: Thu, 07 Mar 2024 10:15:41 GMT\n",
            "Cache-Control: public, max-age=2592000\n",
            "Server: gws\n",
            "Content-Length: 219\n",
            "X-XSS-Protection: 0\n",
            "X-Frame-Options: SAMEORIGIN\n",
            "Connection: close\n"
          ]
        }
      ],
      "source": [
        "headers, _, body = response.partition('\\r\\n\\r\\n')\n",
        "status_line = headers.splitlines()[0]\n",
        "status_code = status_line.split(' ')[1]\n",
        "\n",
        "print(f\"Статус-код: {status_code}\")\n",
        "print(\"Заголовки ответа:\")\n",
        "print('\\n'.join(headers.splitlines()[1:]))"
      ]
    },
    {
      "cell_type": "markdown",
      "metadata": {
        "id": "66fBAnTb1pL1"
      },
      "source": [
        "## <font color=\"Teal\"> Упражнение 4. Работа с системной информацией"
      ]
    },
    {
      "cell_type": "markdown",
      "metadata": {
        "id": "ChYMcIL_1ud6"
      },
      "source": [
        "* Написать скрипт для отображения информации о системе. Скрипт должен выводить информацию о текущей операционной системе, версии Python, а также объем свободной и занятой памяти на диске.\n",
        "\n",
        "* Исследование модуля `os`. Написать функции для получения и вывода текущего рабочего каталога, изменения рабочего каталога и вывода списка всех переменных окружения."
      ]
    },
    {
      "cell_type": "markdown",
      "metadata": {
        "id": "e7MwxBri1y1_"
      },
      "source": [
        "1. Импортировать модули `os`, `platform` и `psutil`. Эти модули помогут получить информацию о системе."
      ]
    },
    {
      "cell_type": "code",
      "execution_count": null,
      "metadata": {
        "id": "ftuo6FuV1y2A"
      },
      "outputs": [],
      "source": [
        "import os, platform, psutil"
      ]
    },
    {
      "cell_type": "markdown",
      "metadata": {
        "id": "kYrTMKRR1y2B"
      },
      "source": [
        "2. Вывести информацию о системе. Используйте функции этих модулей для получения и вывода информации."
      ]
    },
    {
      "cell_type": "code",
      "execution_count": null,
      "metadata": {
        "id": "mtwkVQUy1y2E",
        "colab": {
          "base_uri": "https://localhost:8080/"
        },
        "outputId": "0a9fe04e-1581-4102-9b02-0d73d9bdf71a"
      },
      "outputs": [
        {
          "output_type": "stream",
          "name": "stdout",
          "text": [
            "ОС: Linux 6.1.58+\n",
            "Версия Python: 3.10.12\n",
            "Свободно на диске: 76.02 GB\n"
          ]
        }
      ],
      "source": [
        "print(f\"ОС: {platform.system()} {platform.release()}\")\n",
        "print(f\"Версия Python: {platform.python_version()}\")\n",
        "print(f\"Свободно на диске: {psutil.disk_usage('/').free / (1024**3):.2f} GB\")"
      ]
    },
    {
      "cell_type": "markdown",
      "metadata": {
        "id": "vLzTTZJG1y2F"
      },
      "source": [
        "3. Получить и вывести текущий рабочий каталог."
      ]
    },
    {
      "cell_type": "code",
      "execution_count": null,
      "metadata": {
        "id": "UapbhOWt1y2F",
        "colab": {
          "base_uri": "https://localhost:8080/"
        },
        "outputId": "9298b6bd-67e8-46da-967b-127670d27513"
      },
      "outputs": [
        {
          "output_type": "stream",
          "name": "stdout",
          "text": [
            "Текущий рабочий каталог: /content\n"
          ]
        }
      ],
      "source": [
        "print(f\"Текущий рабочий каталог: {os.getcwd()}\")"
      ]
    },
    {
      "cell_type": "markdown",
      "metadata": {
        "id": "hUP_6cPf1y2G"
      },
      "source": [
        "4. Изменить рабочий каталог и вывести его снова."
      ]
    },
    {
      "cell_type": "code",
      "execution_count": null,
      "metadata": {
        "id": "2RYq2REK1y2H",
        "colab": {
          "base_uri": "https://localhost:8080/"
        },
        "outputId": "239c06f2-b2be-4bb4-a2fb-cf49afb6279b"
      },
      "outputs": [
        {
          "output_type": "stream",
          "name": "stdout",
          "text": [
            "Новый рабочий каталог: /content/dir\n"
          ]
        }
      ],
      "source": [
        "os.chdir(r'/content/dir')\n",
        "print(f\"Новый рабочий каталог: {os.getcwd()}\")"
      ]
    },
    {
      "cell_type": "markdown",
      "metadata": {
        "id": "YCrXzfCE1y2H"
      },
      "source": [
        "5. Вывести список всех переменных окружения."
      ]
    },
    {
      "cell_type": "code",
      "execution_count": null,
      "metadata": {
        "id": "l_IvF2Nl1y2J"
      },
      "outputs": [],
      "source": [
        "print(\"Переменные окружения:\")\n",
        "for key, value in os.environ.items():\n",
        "    print(f\"{key}: {value}\")"
      ]
    },
    {
      "cell_type": "markdown",
      "metadata": {
        "id": "ZVcMhqpP19DA"
      },
      "source": [
        "## <font color=\"Teal\"> Упражнение 5. Многопоточность и асинхронное программирование"
      ]
    },
    {
      "cell_type": "markdown",
      "metadata": {
        "id": "CbVXWe9g2ASC"
      },
      "source": [
        "* Пример многопоточного выполнения задач. Написать скрипт, который запускает несколько потоков для выполнения функции, которая симулирует длительную задачу (например, ожидание с использованием `time.sleep()`).\n",
        "\n",
        "* Асинхронное программирование с использованием `asyncio`. Написать асинхронный скрипт для выполнения и ожидания результатов нескольких асинхронных операций (например, асинхронных HTTP-запросов)."
      ]
    },
    {
      "cell_type": "markdown",
      "metadata": {
        "id": "gUi6Jy2u1y2L"
      },
      "source": [
        "1. Импортировать модуль `threading` и `time`."
      ]
    },
    {
      "cell_type": "code",
      "execution_count": null,
      "metadata": {
        "id": "2gqfAS3Ozi1j"
      },
      "outputs": [],
      "source": [
        "import threading, time"
      ]
    },
    {
      "cell_type": "markdown",
      "metadata": {
        "id": "5PDWiI7C1y2L"
      },
      "source": [
        "2. Определить функцию, которая симулирует длительную задачу."
      ]
    },
    {
      "cell_type": "code",
      "execution_count": null,
      "metadata": {
        "id": "9DqHipjK1y2M"
      },
      "outputs": [],
      "source": [
        "def task(name):\n",
        "    print(f\"Задача {name} началась\\n\")\n",
        "    time.sleep(2)\n",
        "    print(f\"\\nЗадача {name} завершена\")"
      ]
    },
    {
      "cell_type": "markdown",
      "metadata": {
        "id": "_NI3SmkW1y2N"
      },
      "source": [
        "3. Запустить несколько потоков для выполнения этой функции."
      ]
    },
    {
      "cell_type": "code",
      "execution_count": null,
      "metadata": {
        "id": "WMB5m3E91y2N"
      },
      "outputs": [],
      "source": [
        "for i in range(5):\n",
        "    t = threading.Thread(target=task, args=(f\"Поток {i+1}\",))\n",
        "    t.start()"
      ]
    },
    {
      "cell_type": "markdown",
      "metadata": {
        "id": "kVQ05HZL1y2O"
      },
      "source": [
        "4. Импортировать модуль `asyncio`."
      ]
    },
    {
      "cell_type": "code",
      "execution_count": null,
      "metadata": {
        "id": "irQVsoDQ1y2Y"
      },
      "outputs": [],
      "source": [
        "import asyncio"
      ]
    },
    {
      "cell_type": "markdown",
      "metadata": {
        "id": "UpdeEXqh1y2Z"
      },
      "source": [
        "5. Определить асинхронную функцию, которая выполняет асинхронную операцию."
      ]
    },
    {
      "cell_type": "code",
      "execution_count": null,
      "metadata": {
        "id": "TUhFF1BG1y2b"
      },
      "outputs": [],
      "source": [
        "async def async_task(name):\n",
        "    print(f\"Асинхронная задача {name} началась\")\n",
        "    await asyncio.sleep(2)\n",
        "    print(f\"Асинхронная задача {name} завершена\")"
      ]
    },
    {
      "cell_type": "markdown",
      "metadata": {
        "id": "szb9rcni1y2e"
      },
      "source": [
        "6. Создать и запустить задачи"
      ]
    },
    {
      "cell_type": "code",
      "execution_count": null,
      "metadata": {
        "id": "FHtxBT4m1y2e"
      },
      "outputs": [],
      "source": [
        "tasks = [asyncio.create_task(async_task(f\"Задача {i+1}\")) for i in range(5)]"
      ]
    },
    {
      "cell_type": "markdown",
      "metadata": {
        "id": "sxtqB3BW1y2f"
      },
      "source": [
        "7. Другой способ. Определить и запустить основную асинхронную функцию `main`."
      ]
    },
    {
      "cell_type": "code",
      "execution_count": null,
      "metadata": {
        "id": "lk45YDWd1y2g"
      },
      "outputs": [],
      "source": [
        "async def main():\n",
        "    await asyncio.gather(*(async_task(f\"Задача {i+1}\") for i in range(5)))\n",
        "\n",
        "await main()"
      ]
    },
    {
      "cell_type": "markdown",
      "metadata": {
        "id": "3phA2BUG1y2h"
      },
      "source": [
        "# <font color=\"Teal\"> **ЛАБОРАТОРНАЯ РАБОТА «ФАЙЛОВЫЙ МЕНЕДЖЕР»**"
      ]
    },
    {
      "cell_type": "markdown",
      "metadata": {
        "id": "hAqrFh5F1y2i"
      },
      "source": [
        "## Цель работы\n",
        "Основной целью работы является развитие умений и навыков в создании комплексных программных проектов, а также в освоении программного взаимодействия с файловой системой на языке Python.\n",
        "\n",
        "## Задания для выполнения\n",
        "Студентам необходимо разработать базовую версию файлового менеджера. Этот программный проект должен позволять пользователю взаимодействовать с файлами и папками в заданной рабочей директории. Список требуемых функций включает:\n",
        "\n",
        "- Создание и удаление директорий.\n",
        "- Навигация по файловой системе внутри рабочей директории.\n",
        "- Создание, чтение, запись, удаление, копирование, перемещение и переименование файлов.\n",
        "- Пользовательский интерфейс должен быть текстовым и работать по принципу командной строки.\n",
        "\n",
        "## Указания к выполнению\n",
        "\n",
        "- **Настройка рабочей директории:** Укажите путь к рабочей папке в конфигурационном файле проекта. Этот файл должен быть отдельным от основного кода.\n",
        "- **Ограничение действий:** Файловый менеджер должен предотвращать выход пользователя за пределы рабочей директории, тем самым создавая изолированное пространство для работы.\n",
        "- **Структура проекта:** Код должен быть структурирован и разделен на модули или классы, каждый из которых отвечает за определенную функцию файлового менеджера.\n",
        "- **Кроссплатформенность:** Программа должна корректно работать как в Windows, так и в UNIX-подобных системах. Используйте стандартную библиотеку Python для обеспечения совместимости.\n",
        "- **Использование Git:** Разработка должна проходить с использованием системы контроля версий Git, а результаты должны быть опубликованы в репозитории на GitHub.\n",
        "- **Дизайн команд:** Перед началом разработки необходимо тщательно спланировать набор и структуру команд, которые будут доступны пользователю. Стремитесь к оригинальности и избегайте копирования интерфейса существующих оболочек.\n",
        "\n",
        "## Дополнительные задания\n",
        "\n",
        "- **Разработка псевдографического интерфейса:** Создайте улучшенный пользовательский интерфейс, используя элементы псевдографики, аналогичные тем, что используются в программных менеджерах файлов Far или Midnight Commander.\n",
        "- **Многопользовательский доступ:** Добавьте функционал для работы нескольких пользователей с файловым менеджером: регистрацию и автоматическое создание персональной директории для каждого.\n",
        "- **Расширение функционала:** Включите дополнительные возможности для работы с файлами и папками, такие как архивация, разархивация и квотирование дискового пространства.\n",
        "\n",
        "## Ожидаемый результат\n",
        "- Полностью функциональный файловый менеджер с текстовым интерфейсом.\n",
        "- Отчет о проделанной работе, включающий описание каждой функции и принципов организации кода.\n",
        "- Код, организованный в соответствии с лучшими практиками программирования и опубликованный на GitHub."
      ]
    }
  ],
  "metadata": {
    "colab": {
      "provenance": [],
      "collapsed_sections": [
        "fuYOpDnB0PjL",
        "3phA2BUG1y2h"
      ]
    },
    "kernelspec": {
      "display_name": "Python 3",
      "language": "python",
      "name": "python3"
    },
    "language_info": {
      "codemirror_mode": {
        "name": "ipython",
        "version": 3
      },
      "file_extension": ".py",
      "mimetype": "text/x-python",
      "name": "python",
      "nbconvert_exporter": "python",
      "pygments_lexer": "ipython3",
      "version": "3.8.5"
    }
  },
  "nbformat": 4,
  "nbformat_minor": 0
}